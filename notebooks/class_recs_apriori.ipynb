{
 "cells": [
  {
   "cell_type": "markdown",
   "metadata": {},
   "source": [
    "How to investigate data with Python Pandas\n",
    "===================="
   ]
  },
  {
   "cell_type": "markdown",
   "metadata": {},
   "source": [
    "Halfway through each semester, Oberlin College students must pick 4-5 classes out of hundreds of classes offered by over 80 separate departments to take in the following term. These classes determine everything from how quickly a student can complete their major, future jobs, and even lifelong friends. Thus, this is a high pressure and momentous decision.\n",
    "\n",
    "Frustrated with the clunky tool provided by the school to explore classes, a group of seven students created OPrestissimo during January 2012. OPrestissimo compiles information about classes, including requirements, prerequisites, and teachers, into a single, easily accessible website with a user-friendly interface. Students save classes into a virtual shopping cart, and can look at their potential schedule of classes on a different page without committing to them."
   ]
  },
  {
   "cell_type": "markdown",
   "metadata": {},
   "source": [
    "### Goal"
   ]
  },
  {
   "cell_type": "markdown",
   "metadata": {},
   "source": [
    "Eight years later, OPrestissimo is still going strong. Our goal is to generate a set of relationships between college classes using the apriori machine learning algorithm. We can use this to help predict which classes a student should take based on the other classes in their cart. We'll use Python Pandas and Matplotlib to analyze and transform our data.\n",
    "\n",
    "For this project, we are working with two files: *carts.csv* and *courses.csv*. The former contains a list of students’ “carts” of courses from Fall 2012 to Spring 2018, and the latter contains information about each course.\n",
    "\n",
    "Let’s start with *carts.csv*.\n",
    "For each cart, we have the following features:\n",
    "* id  — a unique identifier for each entry \n",
    "* cart_id — a unique identifier for each cart \n",
    "* created_at — time the cart was created\n",
    "* updated_at — time the cart was last updated\n",
    "* total_credits — total number of college credits each cart contained\n",
    "* courses — a space separated list of courses in the cart"
   ]
  },
  {
   "cell_type": "markdown",
   "metadata": {},
   "source": [
    "At this point, it’s hard to tell what the difference between *id* and *cart_id*, and whether either of those features contain useful information. All we know is that no two carts have the same id and cart id. Of the available features, *courses* looks the most interesting. \n",
    "\n",
    "But first, let’s take a quick look at our data:\n"
   ]
  },
  {
   "cell_type": "code",
   "execution_count": 2,
   "metadata": {},
   "outputs": [
    {
     "data": {
      "text/plain": [
       "(279565, 6)"
      ]
     },
     "execution_count": 2,
     "metadata": {},
     "output_type": "execute_result"
    }
   ],
   "source": [
    "import pandas as pd\n",
    "\n",
    "path = \"/Users/Eliana/Documents/_csprojects/OPrestissimoModels/data/\"\n",
    "\n",
    "carts_df = pd.read_csv(path+'carts.csv')\n",
    "carts_df.shape"
   ]
  },
  {
   "cell_type": "markdown",
   "metadata": {},
   "source": [
    "The *shape* property of a Pandas DataFrame tells us how many rows and columns our data contains. In this case, we learn that there are 279,565 individual cart entries and six columns (one column for each feature).  Wow, that’s a lot!"
   ]
  },
  {
   "cell_type": "markdown",
   "metadata": {},
   "source": [
    "#### Feature Selection\n",
    "\n",
    "##### Do cart_id and id contain useful information?\n",
    "\n",
    "To understand whether *cart_id* and *id* contain useful information, let’s do some back-of-the-envelope calculations. We know that roughly 3,000 students attend Oberlin College at any given time. Our dataset contains 12 semesters’ worth of information. We know that OPrestissimo was popular, but not every student used it. Let’s say, generously, that 50% of Oberlin students used the website in a given semester. \n",
    "\n",
    "279,565 cart entries ÷ (3,000 students × 12 semesters) = 15.5, or about 15.5 entries per student per semester. \n",
    "\n",
    "This means that for every student, there are at least 15 unique *cart_id*’s and *id*’s. There’s not much I can do with that information, so it makes sense to ignore *cart_id* and *id*. \n",
    "\n",
    "Upon investigation, my team and I learned that OPrestissimo can only hold one cart at a time per logged in user. It was unclear to us under what circumstances OPrestissimo saved an entry, but clearly at least several times per semester. \n"
   ]
  },
  {
   "cell_type": "markdown",
   "metadata": {},
   "source": [
    "##### What about the other features?\n",
    "\n",
    "Students must delete all the courses in their carts each semester before adding new courses, which means that we cannot track which classes students planned to take over time. That means that *created_at* and *updated_at* are probably not very useful for us. We can safely ignore them. \n",
    "\n",
    "We are left with two features: *total_credits* and *courses*.  Courses contains a space-separated list of individual classes, and total_credits gives us an idea of how many classes a student was considering. \n",
    "\n",
    "Let's drop those features."
   ]
  },
  {
   "cell_type": "code",
   "execution_count": 16,
   "metadata": {},
   "outputs": [],
   "source": [
    "clean_carts = carts_df.drop(columns=['id','cartid','created_at','updated_at'])"
   ]
  },
  {
   "cell_type": "markdown",
   "metadata": {},
   "source": [
    "##### Feature — total_credits\n",
    "\n",
    "Usually, Oberlin students take between 14 and 22 credits per semester. Given that a student using OPrestissimo would be considering their options and thus have more credits in their carts, we shouldn’t be surprised if we see more credits than that. Let’s plot a histogram of the total credits to see how many credits were in each cart. "
   ]
  },
  {
   "cell_type": "code",
   "execution_count": 17,
   "metadata": {},
   "outputs": [
    {
     "data": {
      "text/plain": [
       "Text(0.5, 0, 'Number of Credits')"
      ]
     },
     "execution_count": 17,
     "metadata": {},
     "output_type": "execute_result"
    },
    {
     "data": {
      "image/png": "[encoded data removed]",
      "text/plain": [
       "<Figure size 432x288 with 1 Axes>"
      ]
     },
     "metadata": {
      "needs_background": "light"
     },
     "output_type": "display_data"
    }
   ],
   "source": [
    "import matplotlib.pyplot as plt\n",
    "\n",
    "total_credits = clean_carts[\"total_credits\"].tolist() #just retrieve total_credits column, and convert a form matplotlib understands\n",
    "\n",
    "n, bins, patches = plt.hist(total_credits, bins=[0,1,2,4,6,8,10,12,14,16,18,20,22,24,26,28,30,32,34,400], histtype='stepfilled',color='#39ff14')\n",
    "plt.xlim(0, 40)\n",
    "plt.xlabel(\"Number of Credits\")"
   ]
  },
  {
   "cell_type": "markdown",
   "metadata": {},
   "source": [
    "Wow, look at all those carts that have less than or equal to 1 total credits! That’s over 250,000 entries, most of our data. Let’s get rid of every entry that has less than one total credits. We can do this easily using pandas filtering, as seen in the code below. "
   ]
  },
  {
   "cell_type": "code",
   "execution_count": 18,
   "metadata": {},
   "outputs": [
    {
     "data": {
      "text/plain": [
       "(10535, 2)"
      ]
     },
     "execution_count": 18,
     "metadata": {},
     "output_type": "execute_result"
    }
   ],
   "source": [
    "#make a new DataFrame with entries that have total_credits greater than 1\n",
    "clean_carts = clean_carts[clean_carts['total_credits']>1]\n",
    "clean_carts.shape"
   ]
  },
  {
   "cell_type": "markdown",
   "metadata": {},
   "source": [
    "Luckily, we still have over 10,000 entries with usable data. Let’s look at the distribution of total credits, again."
   ]
  },
  {
   "cell_type": "code",
   "execution_count": 19,
   "metadata": {},
   "outputs": [
    {
     "data": {
      "text/plain": [
       "Text(0.5, 0, 'Number of Credits')"
      ]
     },
     "execution_count": 19,
     "metadata": {},
     "output_type": "execute_result"
    },
    {
     "data": {
      "image/png": "[encoded data removed]",
      "text/plain": [
       "<Figure size 432x288 with 1 Axes>"
      ]
     },
     "metadata": {
      "needs_background": "light"
     },
     "output_type": "display_data"
    }
   ],
   "source": [
    "#MAKE A PRETTIER GRAPH\n",
    "total_credits = clean_carts[\"total_credits\"].tolist()\n",
    "n,bins,patches = plt.hist(total_credits, bins='fd', histtype='stepfilled', color='#ce6efd')\n",
    "plt.xlim(0, 100) #100 is best\n",
    "plt.xlabel(\"Number of Credits\")\n"
   ]
  },
  {
   "cell_type": "markdown",
   "metadata": {},
   "source": [
    "That looks much better. Most students had between 2 and 40 credits in their carts, with a right tail of students who added many, many classes. \n",
    "\n",
    "##### Feature — Courses\n",
    "\n",
    "Courses are represented as a space-separated list of classes. We need to clean the data a little bit before we can move on. Each class is represented by a string containing the semester and a registrar code called the “CRN”. For example, a class represented by “s15_17875” represents a class that was offered in Spring 2015 and has the CRN 17875. Each CRN is unique to each section of a class, and the CRNs change semester to semester. This presents a problem. We know that many classes are offered multiple times within a semester and again in later semesters, and we want to maximize the power of our recommendation engine.\n",
    "\n",
    "This is where our other file *courses.csv* comes in. This file contains tons of information about each class that was offered at Oberlin and stored by OPrestissimo. (Feel free to play with it on your own!)\n",
    "\n",
    "Let’s look at *dept, cnum*, and *semcrn*. "
   ]
  },
  {
   "cell_type": "code",
   "execution_count": 20,
   "metadata": {},
   "outputs": [
    {
     "data": {
      "text/html": [
       "<div>\n",
       "<style scoped>\n",
       "    .dataframe tbody tr th:only-of-type {\n",
       "        vertical-align: middle;\n",
       "    }\n",
       "\n",
       "    .dataframe tbody tr th {\n",
       "        vertical-align: top;\n",
       "    }\n",
       "\n",
       "    .dataframe thead th {\n",
       "        text-align: right;\n",
       "    }\n",
       "</style>\n",
       "<table border=\"1\" class=\"dataframe\">\n",
       "  <thead>\n",
       "    <tr style=\"text-align: right;\">\n",
       "      <th></th>\n",
       "      <th>dept</th>\n",
       "      <th>cnum</th>\n",
       "      <th>semcrn</th>\n",
       "    </tr>\n",
       "  </thead>\n",
       "  <tbody>\n",
       "    <tr>\n",
       "      <th>0</th>\n",
       "      <td>AAST</td>\n",
       "      <td>101</td>\n",
       "      <td>f09_1002</td>\n",
       "    </tr>\n",
       "  </tbody>\n",
       "</table>\n",
       "</div>"
      ],
      "text/plain": [
       "   dept cnum    semcrn\n",
       "0  AAST  101  f09_1002"
      ]
     },
     "execution_count": 20,
     "metadata": {},
     "output_type": "execute_result"
    }
   ],
   "source": [
    "#Note: we have about 3 lines of bad data, but it shouldn't affect our analysis very much\n",
    "courses_df = pd.read_csv(path+\"courses.csv\", dtype='str',error_bad_lines=False, warn_bad_lines=False)\n",
    "courses_df[[\"dept\", \"cnum\", \"semcrn\"]].head(1)"
   ]
  },
  {
   "cell_type": "markdown",
   "metadata": {},
   "source": [
    "AAST is the 4-digit code that stands for Africana Studies, 101 is the department’s course number the class, and f09_1002 “semcrn” looks exactly like the entries in our “courses” column in our carts DataFrame. While the semester CRN changes every semester, the department and associated 3-digit code rarely change. This means that we can map the temporary semester CRNs stored in our carts to a more permanent format.\n",
    "\n",
    "In order to use the apriori algorithm, we need all of our carts in the format of a list of lists. For example, if one student took Africana Studies 101 and Economics 101, and another student just took Economics 101, then our complete list of carts would look like:"
   ]
  },
  {
   "cell_type": "code",
   "execution_count": 21,
   "metadata": {},
   "outputs": [],
   "source": [
    "[['AAST_101', 'ECON_101'],['ECON_101']];"
   ]
  },
  {
   "cell_type": "markdown",
   "metadata": {},
   "source": [
    "So we'll create a list of lists of the department abbreviation followed by the department's 3-digit code for the class. \n",
    "\n",
    "But before we move on, let's remove any rows that have missing values in the courses column, because we don't care about any carts without any classes."
   ]
  },
  {
   "cell_type": "code",
   "execution_count": 22,
   "metadata": {},
   "outputs": [],
   "source": [
    "clean_carts = clean_carts.dropna(subset=['courses']);"
   ]
  },
  {
   "cell_type": "markdown",
   "metadata": {},
   "source": [
    "Here's a function to reformat the carts. It takes a few minutes to run, so be prepared to wait if you want to try it on your own. First, I clean the items in the cart. Then, for every item in the cart, I check to see if I've already created and saved the abbreviation into *abb_map* and if not, finds it. I re-create each cart as lists of abbreviations, and then append it to my cart of carts, *carts_lists*."
   ]
  },
  {
   "cell_type": "code",
   "execution_count": 24,
   "metadata": {},
   "outputs": [
    {
     "ename": "TypeError",
     "evalue": "'type' object does not support item assignment",
     "output_type": "error",
     "traceback": [
      "\u001b[0;31m---------------------------------------------------------------------------\u001b[0m",
      "\u001b[0;31mTypeError\u001b[0m                                 Traceback (most recent call last)",
      "\u001b[0;32m<ipython-input-24-8a7b586ba787>\u001b[0m in \u001b[0;36m<module>\u001b[0;34m\u001b[0m\n\u001b[1;32m     32\u001b[0m     \u001b[0;32mif\u001b[0m \u001b[0mdeptcrn_cart\u001b[0m\u001b[0;34m:\u001b[0m \u001b[0mcarts_lists\u001b[0m\u001b[0;34m.\u001b[0m\u001b[0mappend\u001b[0m\u001b[0;34m(\u001b[0m\u001b[0mdeptcrn_cart\u001b[0m\u001b[0;34m)\u001b[0m\u001b[0;34m\u001b[0m\u001b[0;34m\u001b[0m\u001b[0m\n\u001b[1;32m     33\u001b[0m \u001b[0;34m\u001b[0m\u001b[0m\n\u001b[0;32m---> 34\u001b[0;31m \u001b[0mclean_carts\u001b[0m\u001b[0;34m.\u001b[0m\u001b[0mapply\u001b[0m\u001b[0;34m(\u001b[0m\u001b[0;32mlambda\u001b[0m \u001b[0mrow\u001b[0m\u001b[0;34m:\u001b[0m \u001b[0mget_dept_nums\u001b[0m\u001b[0;34m(\u001b[0m\u001b[0mrow\u001b[0m\u001b[0;34m)\u001b[0m\u001b[0;34m,\u001b[0m \u001b[0maxis\u001b[0m\u001b[0;34m=\u001b[0m\u001b[0;36m1\u001b[0m\u001b[0;34m)\u001b[0m\u001b[0;34m;\u001b[0m\u001b[0;34m\u001b[0m\u001b[0;34m\u001b[0m\u001b[0m\n\u001b[0m\u001b[1;32m     35\u001b[0m \u001b[0mcarts_lists\u001b[0m\u001b[0;34m;\u001b[0m \u001b[0;31m#result stored in carts_lists\u001b[0m\u001b[0;34m\u001b[0m\u001b[0;34m\u001b[0m\u001b[0m\n",
      "\u001b[0;32m/Library/Frameworks/Python.framework/Versions/3.8/lib/python3.8/site-packages/pandas/core/frame.py\u001b[0m in \u001b[0;36mapply\u001b[0;34m(self, func, axis, raw, result_type, args, **kwds)\u001b[0m\n\u001b[1;32m   6876\u001b[0m             \u001b[0mkwds\u001b[0m\u001b[0;34m=\u001b[0m\u001b[0mkwds\u001b[0m\u001b[0;34m,\u001b[0m\u001b[0;34m\u001b[0m\u001b[0;34m\u001b[0m\u001b[0m\n\u001b[1;32m   6877\u001b[0m         )\n\u001b[0;32m-> 6878\u001b[0;31m         \u001b[0;32mreturn\u001b[0m \u001b[0mop\u001b[0m\u001b[0;34m.\u001b[0m\u001b[0mget_result\u001b[0m\u001b[0;34m(\u001b[0m\u001b[0;34m)\u001b[0m\u001b[0;34m\u001b[0m\u001b[0;34m\u001b[0m\u001b[0m\n\u001b[0m\u001b[1;32m   6879\u001b[0m \u001b[0;34m\u001b[0m\u001b[0m\n\u001b[1;32m   6880\u001b[0m     \u001b[0;32mdef\u001b[0m \u001b[0mapplymap\u001b[0m\u001b[0;34m(\u001b[0m\u001b[0mself\u001b[0m\u001b[0;34m,\u001b[0m \u001b[0mfunc\u001b[0m\u001b[0;34m)\u001b[0m \u001b[0;34m->\u001b[0m \u001b[0;34m\"DataFrame\"\u001b[0m\u001b[0;34m:\u001b[0m\u001b[0;34m\u001b[0m\u001b[0;34m\u001b[0m\u001b[0m\n",
      "\u001b[0;32m/Library/Frameworks/Python.framework/Versions/3.8/lib/python3.8/site-packages/pandas/core/apply.py\u001b[0m in \u001b[0;36mget_result\u001b[0;34m(self)\u001b[0m\n\u001b[1;32m    184\u001b[0m             \u001b[0;32mreturn\u001b[0m \u001b[0mself\u001b[0m\u001b[0;34m.\u001b[0m\u001b[0mapply_raw\u001b[0m\u001b[0;34m(\u001b[0m\u001b[0;34m)\u001b[0m\u001b[0;34m\u001b[0m\u001b[0;34m\u001b[0m\u001b[0m\n\u001b[1;32m    185\u001b[0m \u001b[0;34m\u001b[0m\u001b[0m\n\u001b[0;32m--> 186\u001b[0;31m         \u001b[0;32mreturn\u001b[0m \u001b[0mself\u001b[0m\u001b[0;34m.\u001b[0m\u001b[0mapply_standard\u001b[0m\u001b[0;34m(\u001b[0m\u001b[0;34m)\u001b[0m\u001b[0;34m\u001b[0m\u001b[0;34m\u001b[0m\u001b[0m\n\u001b[0m\u001b[1;32m    187\u001b[0m \u001b[0;34m\u001b[0m\u001b[0m\n\u001b[1;32m    188\u001b[0m     \u001b[0;32mdef\u001b[0m \u001b[0mapply_empty_result\u001b[0m\u001b[0;34m(\u001b[0m\u001b[0mself\u001b[0m\u001b[0;34m)\u001b[0m\u001b[0;34m:\u001b[0m\u001b[0;34m\u001b[0m\u001b[0;34m\u001b[0m\u001b[0m\n",
      "\u001b[0;32m/Library/Frameworks/Python.framework/Versions/3.8/lib/python3.8/site-packages/pandas/core/apply.py\u001b[0m in \u001b[0;36mapply_standard\u001b[0;34m(self)\u001b[0m\n\u001b[1;32m    293\u001b[0m \u001b[0;34m\u001b[0m\u001b[0m\n\u001b[1;32m    294\u001b[0m             \u001b[0;32mtry\u001b[0m\u001b[0;34m:\u001b[0m\u001b[0;34m\u001b[0m\u001b[0;34m\u001b[0m\u001b[0m\n\u001b[0;32m--> 295\u001b[0;31m                 result = libreduction.compute_reduction(\n\u001b[0m\u001b[1;32m    296\u001b[0m                     \u001b[0mvalues\u001b[0m\u001b[0;34m,\u001b[0m \u001b[0mself\u001b[0m\u001b[0;34m.\u001b[0m\u001b[0mf\u001b[0m\u001b[0;34m,\u001b[0m \u001b[0maxis\u001b[0m\u001b[0;34m=\u001b[0m\u001b[0mself\u001b[0m\u001b[0;34m.\u001b[0m\u001b[0maxis\u001b[0m\u001b[0;34m,\u001b[0m \u001b[0mdummy\u001b[0m\u001b[0;34m=\u001b[0m\u001b[0mdummy\u001b[0m\u001b[0;34m,\u001b[0m \u001b[0mlabels\u001b[0m\u001b[0;34m=\u001b[0m\u001b[0mlabels\u001b[0m\u001b[0;34m\u001b[0m\u001b[0;34m\u001b[0m\u001b[0m\n\u001b[1;32m    297\u001b[0m                 )\n",
      "\u001b[0;32mpandas/_libs/reduction.pyx\u001b[0m in \u001b[0;36mpandas._libs.reduction.compute_reduction\u001b[0;34m()\u001b[0m\n",
      "\u001b[0;32mpandas/_libs/reduction.pyx\u001b[0m in \u001b[0;36mpandas._libs.reduction.Reducer.get_result\u001b[0;34m()\u001b[0m\n",
      "\u001b[0;32m<ipython-input-24-8a7b586ba787>\u001b[0m in \u001b[0;36m<lambda>\u001b[0;34m(row)\u001b[0m\n\u001b[1;32m     32\u001b[0m     \u001b[0;32mif\u001b[0m \u001b[0mdeptcrn_cart\u001b[0m\u001b[0;34m:\u001b[0m \u001b[0mcarts_lists\u001b[0m\u001b[0;34m.\u001b[0m\u001b[0mappend\u001b[0m\u001b[0;34m(\u001b[0m\u001b[0mdeptcrn_cart\u001b[0m\u001b[0;34m)\u001b[0m\u001b[0;34m\u001b[0m\u001b[0;34m\u001b[0m\u001b[0m\n\u001b[1;32m     33\u001b[0m \u001b[0;34m\u001b[0m\u001b[0m\n\u001b[0;32m---> 34\u001b[0;31m \u001b[0mclean_carts\u001b[0m\u001b[0;34m.\u001b[0m\u001b[0mapply\u001b[0m\u001b[0;34m(\u001b[0m\u001b[0;32mlambda\u001b[0m \u001b[0mrow\u001b[0m\u001b[0;34m:\u001b[0m \u001b[0mget_dept_nums\u001b[0m\u001b[0;34m(\u001b[0m\u001b[0mrow\u001b[0m\u001b[0;34m)\u001b[0m\u001b[0;34m,\u001b[0m \u001b[0maxis\u001b[0m\u001b[0;34m=\u001b[0m\u001b[0;36m1\u001b[0m\u001b[0;34m)\u001b[0m\u001b[0;34m;\u001b[0m\u001b[0;34m\u001b[0m\u001b[0;34m\u001b[0m\u001b[0m\n\u001b[0m\u001b[1;32m     35\u001b[0m \u001b[0mcarts_lists\u001b[0m\u001b[0;34m;\u001b[0m \u001b[0;31m#result stored in carts_lists\u001b[0m\u001b[0;34m\u001b[0m\u001b[0;34m\u001b[0m\u001b[0m\n",
      "\u001b[0;32m<ipython-input-24-8a7b586ba787>\u001b[0m in \u001b[0;36mget_dept_nums\u001b[0;34m(row)\u001b[0m\n\u001b[1;32m     28\u001b[0m             \u001b[0;32mif\u001b[0m \u001b[0;32mnot\u001b[0m \u001b[0mdf\u001b[0m\u001b[0;34m.\u001b[0m\u001b[0mempty\u001b[0m\u001b[0;34m:\u001b[0m\u001b[0;34m\u001b[0m\u001b[0;34m\u001b[0m\u001b[0m\n\u001b[1;32m     29\u001b[0m                 \u001b[0mdept_cnum\u001b[0m \u001b[0;34m=\u001b[0m \u001b[0;34m(\u001b[0m\u001b[0mdf\u001b[0m\u001b[0;34m[\u001b[0m\u001b[0;34m'dept'\u001b[0m\u001b[0;34m]\u001b[0m \u001b[0;34m+\u001b[0m \u001b[0;34m\"_\"\u001b[0m \u001b[0;34m+\u001b[0m \u001b[0mdf\u001b[0m\u001b[0;34m[\u001b[0m\u001b[0;34m'cnum'\u001b[0m\u001b[0;34m]\u001b[0m\u001b[0;34m)\u001b[0m\u001b[0;34m.\u001b[0m\u001b[0miloc\u001b[0m\u001b[0;34m[\u001b[0m\u001b[0;36m0\u001b[0m\u001b[0;34m]\u001b[0m\u001b[0;34m\u001b[0m\u001b[0;34m\u001b[0m\u001b[0m\n\u001b[0;32m---> 30\u001b[0;31m                 \u001b[0mmap\u001b[0m\u001b[0;34m[\u001b[0m\u001b[0mcourse\u001b[0m\u001b[0;34m]\u001b[0m \u001b[0;34m=\u001b[0m \u001b[0mdept_cnum\u001b[0m\u001b[0;34m\u001b[0m\u001b[0;34m\u001b[0m\u001b[0m\n\u001b[0m\u001b[1;32m     31\u001b[0m                 \u001b[0mdeptcrn_cart\u001b[0m\u001b[0;34m.\u001b[0m\u001b[0mappend\u001b[0m\u001b[0;34m(\u001b[0m\u001b[0mdept_cnum\u001b[0m\u001b[0;34m)\u001b[0m\u001b[0;34m\u001b[0m\u001b[0;34m\u001b[0m\u001b[0m\n\u001b[1;32m     32\u001b[0m     \u001b[0;32mif\u001b[0m \u001b[0mdeptcrn_cart\u001b[0m\u001b[0;34m:\u001b[0m \u001b[0mcarts_lists\u001b[0m\u001b[0;34m.\u001b[0m\u001b[0mappend\u001b[0m\u001b[0;34m(\u001b[0m\u001b[0mdeptcrn_cart\u001b[0m\u001b[0;34m)\u001b[0m\u001b[0;34m\u001b[0m\u001b[0;34m\u001b[0m\u001b[0m\n",
      "\u001b[0;31mTypeError\u001b[0m: 'type' object does not support item assignment"
     ]
    }
   ],
   "source": [
    "import re\n",
    "\n",
    "carts_lists = [] #list of formatted carts\n",
    "abb_map = {} #abbreviation map that maps the sem_crns to the new format (ex: 's12_12434' : 'ATHL_200')\n",
    "\n",
    "def get_dept_nums(row):\n",
    "    '''\n",
    "    Converts sem_crns to a less changeable format, dept_cnum. \n",
    "    Ex: 's12_1234' to 'ECON_101'\n",
    "    \n",
    "    Arguments:\n",
    "        row - a row of pandas DataFrame. \n",
    "    '''\n",
    "    \n",
    "    #clean each item in cart (row is each cart, and ends with a '\\n')\n",
    "    sem_crns = row[\"courses\"]\n",
    "    clean_courses = str(sem_crns[:-1])\n",
    "    re.sub('[^A-Za-z0-9]+', '', clean_courses)\n",
    "    course_list = clean_courses.split(\" \")\n",
    "\n",
    "    deptcrn_cart = []\n",
    "    for course in course_list:\n",
    "        if course in abb_map.keys():\n",
    "            dept_cnum = abb_map[course]\n",
    "        else:\n",
    "            #find row in 'courses_df' that has the 'semcrn' present in the cart\n",
    "            df = courses_df.loc[courses_df['semcrn'] == course, [\"dept\", 'cnum']] \n",
    "            if not df.empty:\n",
    "                dept_cnum = (df['dept'] + \"_\" + df['cnum']).iloc[0]\n",
    "                map[course] = dept_cnum\n",
    "                deptcrn_cart.append(dept_cnum)\n",
    "    if deptcrn_cart: carts_lists.append(deptcrn_cart)\n",
    "\n",
    "clean_carts.apply(lambda row: get_dept_nums(row), axis=1);\n",
    "carts_lists; #result stored in carts_lists"
   ]
  },
  {
   "cell_type": "markdown",
   "metadata": {},
   "source": [
    "For the sake of convenience, I wrote carts_lists to a .csv file."
   ]
  },
  {
   "cell_type": "code",
   "execution_count": null,
   "metadata": {},
   "outputs": [],
   "source": [
    "Now, I just feed in my results into an existing aprioi algorithm, apyroi, voila. See my github page. We have a set of rules that looks like this:"
   ]
  },
  {
   "cell_type": "markdown",
   "metadata": {},
   "source": [
    ""
   ]
  }
 ],
 "metadata": {
  "kernelspec": {
   "display_name": "Python 3",
   "language": "python",
   "name": "python3"
  },
  "language_info": {
   "codemirror_mode": {
    "name": "ipython",
    "version": 3
   },
   "file_extension": ".py",
   "mimetype": "text/x-python",
   "name": "python",
   "nbconvert_exporter": "python",
   "pygments_lexer": "ipython3",
   "version": "3.8.1"
  }
 },
 "nbformat": 4,
 "nbformat_minor": 4
}
